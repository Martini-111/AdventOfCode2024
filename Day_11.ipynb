{
 "cells": [
  {
   "cell_type": "markdown",
   "metadata": {},
   "source": [
    "# Day 11"
   ]
  },
  {
   "cell_type": "code",
   "execution_count": 1,
   "metadata": {},
   "outputs": [
    {
     "data": {
      "text/plain": [
       "['28', '4', '3179', '96938', '0', '6617406', '490', '816207']"
      ]
     },
     "execution_count": 1,
     "metadata": {},
     "output_type": "execute_result"
    }
   ],
   "source": [
    "with open(\"Day_11_input.txt\") as fobj:\n",
    "    inpArr = fobj.read().strip().split()\n",
    "\n",
    "inpArr"
   ]
  },
  {
   "cell_type": "code",
   "execution_count": 2,
   "metadata": {},
   "outputs": [],
   "source": [
    "# myStr = \"POTATOS ARE AMAAAAAAAAZIING\"\n",
    "# print(myStr[2:])"
   ]
  },
  {
   "cell_type": "code",
   "execution_count": 3,
   "metadata": {},
   "outputs": [],
   "source": [
    "def blink(inpArr):\n",
    "    # iterArr = inpArr[:]\n",
    "    iterArr = inpArr\n",
    "    i = 0\n",
    "    while i < len(iterArr):\n",
    "        if iterArr[i] == '0':\n",
    "            iterArr[i] = '1'\n",
    "        \n",
    "        elif len(iterArr[i]) % 2 == 0:\n",
    "            temp = iterArr[i][ int(len(iterArr[i])/2): ]\n",
    "            # iterArr[i] = str(int(  iterArr[i][:int(len(iterArr[i])/2)]  ))\n",
    "            iterArr[i] = iterArr[i][:int(len(iterArr[i])/2)]\n",
    "            iterArr.insert((i+1), str(int(temp)))\n",
    "            i+=1\n",
    "        else:\n",
    "            iterArr[i] = str( 2024 * int(iterArr[i]))\n",
    "        \n",
    "        i += 1\n",
    "    # return iterArr\n"
   ]
  },
  {
   "cell_type": "code",
   "execution_count": 4,
   "metadata": {},
   "outputs": [],
   "source": [
    "def blinkerFunc(numBlinks, myList):\n",
    "    for _ in range(numBlinks):\n",
    "        # myList = blink(myList)\n",
    "        blink(myList)\n",
    "    print(f\"Total number of stones after {numBlinks} blinks are: {len(myList)}!\")"
   ]
  },
  {
   "cell_type": "code",
   "execution_count": 5,
   "metadata": {},
   "outputs": [],
   "source": [
    "# numBlinks = 6\n",
    "# myList = \"125 17\".split()\n",
    "# blinkerFunc(numBlinks, myList)"
   ]
  },
  {
   "cell_type": "code",
   "execution_count": 6,
   "metadata": {},
   "outputs": [
    {
     "name": "stdout",
     "output_type": "stream",
     "text": [
      "Total number of stones after 25 blinks are: 189167!\n"
     ]
    }
   ],
   "source": [
    "blinkerFunc(25, inpArr)"
   ]
  },
  {
   "cell_type": "code",
   "execution_count": 7,
   "metadata": {},
   "outputs": [],
   "source": [
    "# blinkerFunc(75, inpArr)"
   ]
  },
  {
   "cell_type": "markdown",
   "metadata": {},
   "source": [
    "# Part 2"
   ]
  },
  {
   "cell_type": "code",
   "execution_count": 8,
   "metadata": {},
   "outputs": [],
   "source": [
    "import numpy as np\n",
    "import math\n",
    "from timeit import default_timer"
   ]
  },
  {
   "cell_type": "code",
   "execution_count": 9,
   "metadata": {},
   "outputs": [
    {
     "data": {
      "text/plain": [
       "['28', '4', '3179', '96938', '0', '6617406', '490', '816207']"
      ]
     },
     "execution_count": 9,
     "metadata": {},
     "output_type": "execute_result"
    }
   ],
   "source": [
    "with open(\"Day_11_input.txt\") as fobj:\n",
    "    inpArr = fobj.read().strip().split()\n",
    "\n",
    "inpArr"
   ]
  },
  {
   "cell_type": "code",
   "execution_count": 10,
   "metadata": {},
   "outputs": [],
   "source": [
    "inpArr = [int(x) for x in inpArr]\n",
    "# inpArr = np.array(inpArr, dtype=np.int64)\n",
    "# inpArr"
   ]
  },
  {
   "cell_type": "code",
   "execution_count": 11,
   "metadata": {},
   "outputs": [],
   "source": [
    "# def lenDigits(n):\n",
    "#     return int(math.log10(n))+1\n",
    "def lenDigits(n):\n",
    "    return len(\"%i\" % n)\n",
    "\n",
    "def splitInt(n):\n",
    "    length = lenDigits(n)\n",
    "    mid_pow = 10 ** (length // 2)\n",
    "    # print(n // mid_pow, n % mid_pow)\n",
    "    return n // mid_pow, n % mid_pow\n",
    "\n",
    "def addToDict(myDict, n, times):\n",
    "    if n not in myDict:\n",
    "        myDict[n] = times\n",
    "    else:\n",
    "        myDict[n] += times"
   ]
  },
  {
   "cell_type": "code",
   "execution_count": 12,
   "metadata": {},
   "outputs": [],
   "source": [
    "known_conversions = {}\n",
    "def dictblink(inpDict):\n",
    "\n",
    "    iterDict = inpDict.copy()\n",
    "    for num in inpDict:\n",
    "        if num == 0:\n",
    "            addToDict(iterDict, 1, times=inpDict[num])\n",
    "            iterDict[num] -= inpDict[num]\n",
    "            # print(\"\\\"0\\\" noticed, therefore replaced\")\n",
    "\n",
    "        elif lenDigits(num) % 2 == 0:\n",
    "            if num not in known_conversions:\n",
    "                firsttemp, secondtemp = splitInt(num)\n",
    "                known_conversions[num] = (firsttemp, secondtemp)\n",
    "\n",
    "            tupletemp = known_conversions[num]\n",
    "            addToDict(iterDict, tupletemp[0], times=inpDict[num])\n",
    "            addToDict(iterDict, tupletemp[1], times=inpDict[num])\n",
    "            iterDict[num] -= inpDict[num]\n",
    "            # print(f\"\\tSplit all \\\"{num}\\\" into {tupletemp[0]} and {tupletemp[1]}.\")\n",
    "\n",
    "        else:\n",
    "            if num not in known_conversions:\n",
    "                known_conversions[num] = 2024*num\n",
    "\n",
    "            addToDict(iterDict, known_conversions[num], times=inpDict[num])\n",
    "            iterDict[num] -= inpDict[num]\n",
    "            # print(f\"\\t\\tReplaced all \\\"{num}\\\" stones with {known_conversions[num]}.\")\n",
    "\n",
    "    iterDict = {k:v for k,v in iterDict.items() if v > 0}\n",
    "    # print()\n",
    "    return iterDict\n",
    "    "
   ]
  },
  {
   "cell_type": "code",
   "execution_count": 13,
   "metadata": {},
   "outputs": [],
   "source": [
    "def dictBlinkerFunc(numBlinks, myList):\n",
    "    myDict = {k:1 for k in myList}\n",
    "    start_time = default_timer()\n",
    "\n",
    "    for _ in range(numBlinks):\n",
    "        myDict = dictblink(myDict)\n",
    "        # elapsed = default_timer() - start_time\n",
    "        # print(elapsed)\n",
    "        # if elapsed > 300:\n",
    "        #     print(elapsed)\n",
    "        #     print(\"Took too long\")\n",
    "        #     break\n",
    "    elapsed = default_timer() - start_time       \n",
    "    print(f\"Total number of stone-types after {numBlinks} blinks are: {len(myDict.items())}!\")\n",
    "\n",
    "    print(f\"Took {elapsed:.4f} seconds.\")\n",
    "    # print(myDict)\n",
    "    return myDict"
   ]
  },
  {
   "cell_type": "code",
   "execution_count": 14,
   "metadata": {},
   "outputs": [
    {
     "name": "stdout",
     "output_type": "stream",
     "text": [
      "Total number of stone-types after 75 blinks are: 3783!\n",
      "Took 0.1242 seconds.\n",
      "Total number of stones after 75 blinks are: 225253278506288!\n"
     ]
    }
   ],
   "source": [
    "resDict= dictBlinkerFunc(75, inpArr)\n",
    "result = 0\n",
    "for val in resDict.values():\n",
    "    result += val\n",
    "# print(result)\n",
    "print(f\"Total number of stones after 75 blinks are: {result}!\")"
   ]
  },
  {
   "cell_type": "code",
   "execution_count": 15,
   "metadata": {},
   "outputs": [
    {
     "name": "stdout",
     "output_type": "stream",
     "text": [
      "Total number of stone-types after 25 blinks are: 511!\n",
      "Took 0.0038 seconds.\n",
      "Total number of stones after 25 blinks are: 189167!\n"
     ]
    }
   ],
   "source": [
    "resDict= dictBlinkerFunc(25, inpArr)\n",
    "result = 0\n",
    "for val in resDict.values():\n",
    "    result += val\n",
    "# print(result)\n",
    "print(f\"Total number of stones after 25 blinks are: {result}!\")"
   ]
  },
  {
   "cell_type": "code",
   "execution_count": 16,
   "metadata": {},
   "outputs": [],
   "source": [
    "# Another archival copy\n",
    "\n",
    "# def blinkerFunc(numBlinks, myList):\n",
    "#     start_time = default_timer()\n",
    "\n",
    "#     for _ in range(numBlinks):\n",
    "#         myList = arrblink(myList)\n",
    "#         elapsed = default_timer() - start_time\n",
    "#         # print(elapsed)\n",
    "#         if elapsed > 120:\n",
    "#             print(elapsed)\n",
    "#             print(\"Done fucked up\")\n",
    "#             break\n",
    "            \n",
    "#     print(f\"Total number of stones after {numBlinks} blinks are: {myList.shape[0]}!\")\n",
    "#     # print(myList)\n",
    "\n",
    "#----------------------------------\n",
    "# start_time = default_timer()\n",
    "# numBlinks = 6\n",
    "# myList = np.array(list(map(int, \"125 17\".split())))\n",
    "# # print(myList)\n",
    "# blinkerFunc(numBlinks, myList)\n",
    "\n",
    "# elapsed = default_timer() - start_time\n",
    "# print(elapsed)\n",
    "\n",
    "# ---------------------------------\n",
    "# blinkerFunc(75, inpArr)\n",
    "\n",
    "#----------------------------------\n",
    "# this is an archival copy of an in-between with commented out fossils\n",
    "# known_conversions = {}\n",
    "# def arrblink(inpArr):\n",
    "#     # iterArr = inpArr[:]\n",
    "#     iterArr = inpArr\n",
    "#     i = 0\n",
    "#     # bounds = iterArr.shape[0]\n",
    "#     while i < iterArr.shape[0]:\n",
    "#         if iterArr[i] == 0:\n",
    "#             iterArr[i] = 1\n",
    "        \n",
    "#         elif lenDigits(iterArr[i]) % 2 == 0:\n",
    "#             # iterArr[i], temp = splitInt(iterArr[i])\n",
    "#             # if iterArr[i] in known_conversions:\n",
    "#             #     tupletemp = known_conversions[iterArr[i]]\n",
    "#             #     iterArr[i] = tupletemp[0]\n",
    "#             #     iterArr = np.insert(iterArr, (i+1), tupletemp[1], axis=0)\n",
    "#             # else:\n",
    "#             #     firsttemp, secondtemp = splitInt(iterArr[i])\n",
    "#             #     known_conversions[iterArr[i]] = (firsttemp, secondtemp)\n",
    "#             #     iterArr[i] = firsttemp\n",
    "#             #     iterArr = np.insert(iterArr, (i+1), secondtemp, axis=0)\n",
    "#             if iterArr[i] not in known_conversions:\n",
    "#                 firsttemp, secondtemp = splitInt(iterArr[i])\n",
    "#                 known_conversions[iterArr[i]] = (firsttemp, secondtemp)\n",
    "#             tupletemp = known_conversions[iterArr[i]]\n",
    "#             iterArr[i] = tupletemp[0]\n",
    "#             iterArr = np.insert(iterArr, (i+1), tupletemp[1], axis=0)\n",
    "#             i += 1\n",
    "#             # bounds += 1\n",
    "#         else:\n",
    "#             # if iterArr[i] in known_conversions:\n",
    "#             #     iterArr[i] = known_conversions[iterArr[i]]\n",
    "#             # else:\n",
    "#             #     known_conversions[iterArr[i]] = 2024 * iterArr[i]\n",
    "#             #     iterArr[i] = 2024 * iterArr[i]\n",
    "#             if iterArr[i] not in known_conversions:\n",
    "#                 known_conversions[iterArr[i]] = 2024 * iterArr[i]\n",
    "#             iterArr[i] = known_conversions[iterArr[i]]\n",
    "        \n",
    "#         i += 1\n",
    "#     # print(iterArr)\n",
    "#     # print(known_conversions)\n",
    "#     return iterArr\n",
    "\n",
    "#----------------------------------\n",
    "# # THE ORDER IS A LIE\n",
    "# # aka, just use a set or something, insert oughta be easy\n",
    "\n",
    "# known_conversions = {}\n",
    "# def arrblink(inpArr):\n",
    "\n",
    "#     iterArr = inpArr\n",
    "#     i = 0\n",
    "#     while i < iterArr.shape[0]:\n",
    "#         if iterArr[i] == 0:\n",
    "#             iterArr[i] = 1\n",
    "        \n",
    "#         elif lenDigits(iterArr[i]) % 2 == 0:\n",
    "#             if iterArr[i] not in known_conversions:\n",
    "#                 firsttemp, secondtemp = splitInt(iterArr[i])\n",
    "#                 known_conversions[iterArr[i]] = (firsttemp, secondtemp)\n",
    "#             tupletemp = known_conversions[iterArr[i]]\n",
    "#             iterArr[i] = tupletemp[0]\n",
    "#             iterArr = np.insert(iterArr, (i+1), tupletemp[1], axis=0)\n",
    "#             i += 1\n",
    "#         else:\n",
    "#             if iterArr[i] not in known_conversions:\n",
    "#                 known_conversions[iterArr[i]] = 2024 * iterArr[i]\n",
    "#             iterArr[i] = known_conversions[iterArr[i]]\n",
    "        \n",
    "#         i += 1\n",
    "    \n",
    "#     # print(iterArr)\n",
    "#     # print(known_conversions)\n",
    "#     return iterArr\n",
    "#----------------------------------\n",
    "\n",
    "# # decently working archival\n",
    "# known_conversions = {}\n",
    "# def dictblink(inpDict):\n",
    "\n",
    "#     iterDict = inpDict.copy()\n",
    "#     for num in inpDict:\n",
    "#         if num == 0:\n",
    "#             # iterDict[num] = 0\n",
    "#             for _ in range(inpDict[num]):\n",
    "#                 addToDict(iterDict, 1)\n",
    "#             iterDict[num] -= inpDict[num]\n",
    "#             # print(\"\\\"0\\\" noticed, therefore replaced\")\n",
    "\n",
    "#         elif lenDigits(num) % 2 == 0:\n",
    "#             if num not in known_conversions:\n",
    "#                 firsttemp, secondtemp = splitInt(num)\n",
    "#                 known_conversions[num] = (firsttemp, secondtemp)\n",
    "#             tupletemp = known_conversions[num]\n",
    "\n",
    "#             for _ in range(inpDict[num]):\n",
    "#                 addToDict(iterDict, tupletemp[0])\n",
    "#                 addToDict(iterDict, tupletemp[1])\n",
    "#             # iterDict[num] -= 1\n",
    "#             iterDict[num] -= inpDict[num]\n",
    "#             # print(f\"\\tSplit all \\\"{num}\\\" into {tupletemp[0]} and {tupletemp[1]}.\")\n",
    "\n",
    "#         else:\n",
    "#             if num not in known_conversions:\n",
    "#                 known_conversions[num] = 2024*num\n",
    "#             for _ in range(inpDict[num]):\n",
    "#                 addToDict(iterDict, known_conversions[num])\n",
    "#             # iterDict[num] -= 1\n",
    "#             iterDict[num] -= inpDict[num]\n",
    "#             # print(f\"\\t\\tReplaced all \\\"{num}\\\" stones with {known_conversions[num]}.\")\n",
    "#     iterDict = {k:v for k,v in iterDict.items() if v > 0}\n",
    "#     # print(iterDict)\n",
    "#     # print()\n",
    "#     return iterDict\n",
    "    "
   ]
  }
 ],
 "metadata": {
  "kernelspec": {
   "display_name": "Python 3",
   "language": "python",
   "name": "python3"
  },
  "language_info": {
   "codemirror_mode": {
    "name": "ipython",
    "version": 3
   },
   "file_extension": ".py",
   "mimetype": "text/x-python",
   "name": "python",
   "nbconvert_exporter": "python",
   "pygments_lexer": "ipython3",
   "version": "3.10.11"
  }
 },
 "nbformat": 4,
 "nbformat_minor": 2
}
