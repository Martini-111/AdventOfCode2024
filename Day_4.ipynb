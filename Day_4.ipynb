{
 "cells": [
  {
   "cell_type": "markdown",
   "metadata": {},
   "source": [
    "# Day 4"
   ]
  },
  {
   "cell_type": "code",
   "execution_count": 30,
   "metadata": {},
   "outputs": [],
   "source": [
    "import numpy as np"
   ]
  },
  {
   "cell_type": "code",
   "execution_count": 31,
   "metadata": {},
   "outputs": [],
   "source": [
    "fobj = open('Day_4_input.txt', 'r')\n",
    "textblob = fobj.readlines()\n",
    "textblob[-1] += \"\\n\"\n",
    "textblob = [x[:-1] for x in textblob] #removing \"\\n\"\n",
    "# textblob"
   ]
  },
  {
   "cell_type": "code",
   "execution_count": 32,
   "metadata": {},
   "outputs": [
    {
     "name": "stdout",
     "output_type": "stream",
     "text": [
      "(140, 140)\n"
     ]
    }
   ],
   "source": [
    "myList = [x for y in textblob for x in y]\n",
    "myArray = np.array(myList)\n",
    "myArray.shape\n",
    "myArray = myArray.reshape((140,140))\n",
    "print(myArray.shape)\n",
    "# myArray"
   ]
  },
  {
   "cell_type": "code",
   "execution_count": 33,
   "metadata": {},
   "outputs": [],
   "source": [
    "revArray = myArray[:, ::-1] #reversed columns\n",
    "# print(revArray[0])"
   ]
  },
  {
   "cell_type": "code",
   "execution_count": 34,
   "metadata": {},
   "outputs": [
    {
     "name": "stdout",
     "output_type": "stream",
     "text": [
      "['M' 'M' 'X' 'S']\n",
      "['X' 'M' 'A' 'S']\n"
     ]
    },
    {
     "data": {
      "text/plain": [
       "140"
      ]
     },
     "execution_count": 34,
     "metadata": {},
     "output_type": "execute_result"
    }
   ],
   "source": [
    "print(myArray.diagonal(offset=136))\n",
    "print(myArray.diagonal(offset=-136))\n",
    "# These are our diagonal bounds essentially\n",
    "\n",
    "myArray.diagonal(offset=0).size"
   ]
  },
  {
   "cell_type": "code",
   "execution_count": 35,
   "metadata": {},
   "outputs": [],
   "source": [
    "pat1 = np.array(['X', 'M', 'A', 'S'])\n",
    "pat2 = np.array(['S', 'A', 'M', 'X'])"
   ]
  },
  {
   "cell_type": "code",
   "execution_count": 36,
   "metadata": {},
   "outputs": [
    {
     "data": {
      "text/plain": [
       "442"
      ]
     },
     "execution_count": 36,
     "metadata": {},
     "output_type": "execute_result"
    }
   ],
   "source": [
    "hsum = 0\n",
    "for i in range(myArray.shape[0]):\n",
    "    for j in range(myArray.shape[1] - 3):\n",
    "        if np.array_equal(myArray[i, j:j+4], pat1) or np.array_equal(myArray[i, j:j+4], pat2):\n",
    "            hsum += 1\n",
    "            # This could be optimized by making the inner loop a while loop and skipping ahead 3 places whenever condition true\n",
    "            # This is because the maximum overlap possible for the condition is XMASAMX, no need to check from index(M) or index(A) given XMAS or SAMX\n",
    "hsum"
   ]
  },
  {
   "cell_type": "code",
   "execution_count": 37,
   "metadata": {},
   "outputs": [
    {
     "data": {
      "text/plain": [
       "446"
      ]
     },
     "execution_count": 37,
     "metadata": {},
     "output_type": "execute_result"
    }
   ],
   "source": [
    "vsum = 0\n",
    "for j in range(myArray.shape[1]):\n",
    "    for i in range(myArray.shape[0] - 3):\n",
    "        if np.array_equal(myArray[i:i+4, j], pat1) or np.array_equal(myArray[i:i+4, j], pat2):\n",
    "            vsum += 1\n",
    "vsum"
   ]
  },
  {
   "cell_type": "code",
   "execution_count": 38,
   "metadata": {},
   "outputs": [
    {
     "data": {
      "text/plain": [
       "842"
      ]
     },
     "execution_count": 38,
     "metadata": {},
     "output_type": "execute_result"
    }
   ],
   "source": [
    "diagsum = 0\n",
    "for o in range(-136, 137):\n",
    "    for i in range(1 + 136-abs(o)):\n",
    "        if np.array_equal(myArray.diagonal(offset=o)[i:i+4], pat1) or np.array_equal(myArray.diagonal(offset=o)[i:i+4], pat2):\n",
    "            # print(myArray.diagonal(offset=o)[i:i+4])\n",
    "            diagsum += 1\n",
    "diagsum"
   ]
  },
  {
   "cell_type": "code",
   "execution_count": 39,
   "metadata": {},
   "outputs": [
    {
     "data": {
      "text/plain": [
       "861"
      ]
     },
     "execution_count": 39,
     "metadata": {},
     "output_type": "execute_result"
    }
   ],
   "source": [
    "antidiagsum = 0\n",
    "for o in range(-136, 137):\n",
    "    for i in range(1 + 136-abs(o)):\n",
    "        if np.array_equal(revArray.diagonal(offset=o)[i:i+4], pat1) or np.array_equal(revArray.diagonal(offset=o)[i:i+4], pat2):\n",
    "            # print(revArray.diagonal(offset=o)[i:i+4])\n",
    "            antidiagsum += 1\n",
    "antidiagsum"
   ]
  },
  {
   "cell_type": "code",
   "execution_count": 40,
   "metadata": {},
   "outputs": [
    {
     "name": "stdout",
     "output_type": "stream",
     "text": [
      "2591\n"
     ]
    }
   ],
   "source": [
    "total_sum = diagsum + antidiagsum + hsum + vsum\n",
    "print(total_sum)"
   ]
  },
  {
   "cell_type": "markdown",
   "metadata": {},
   "source": [
    "## Part 2"
   ]
  },
  {
   "cell_type": "code",
   "execution_count": 41,
   "metadata": {},
   "outputs": [],
   "source": [
    "pat3 = np.array(['M', 'A', 'S'])\n",
    "pat4 = np.array(['S', 'A', 'M'])"
   ]
  },
  {
   "cell_type": "code",
   "execution_count": 42,
   "metadata": {},
   "outputs": [
    {
     "data": {
      "text/plain": [
       "1880"
      ]
     },
     "execution_count": 42,
     "metadata": {},
     "output_type": "execute_result"
    }
   ],
   "source": [
    "crosssum = 0\n",
    "for o in range(-137, 138):\n",
    "    for i in range(1 + 137-abs(o)):\n",
    "        if np.array_equal(myArray.diagonal(offset=o)[i:i+3], pat3) or np.array_equal(myArray.diagonal(offset=o)[i:i+3], pat4):\n",
    "            # print(myArray.diagonal(offset=o)[i:i+3])\n",
    "            # print(myArray.diagonal(offset=-(o+2))[i:i+3])\n",
    "            temp = np.array([myArray[abs(min(0,o))+i+2][max(0,o)+i], myArray.diagonal(offset=o)[i+1], myArray[abs(min(0,o))+i][max(0,o)+i+2]])\n",
    "            if np.array_equal(temp, pat3) or np.array_equal(temp, pat4):\n",
    "                crosssum += 1\n",
    "crosssum"
   ]
  },
  {
   "cell_type": "code",
   "execution_count": null,
   "metadata": {},
   "outputs": [],
   "source": []
  }
 ],
 "metadata": {
  "kernelspec": {
   "display_name": "Python 3",
   "language": "python",
   "name": "python3"
  },
  "language_info": {
   "codemirror_mode": {
    "name": "ipython",
    "version": 3
   },
   "file_extension": ".py",
   "mimetype": "text/x-python",
   "name": "python",
   "nbconvert_exporter": "python",
   "pygments_lexer": "ipython3",
   "version": "3.10.11"
  }
 },
 "nbformat": 4,
 "nbformat_minor": 2
}
