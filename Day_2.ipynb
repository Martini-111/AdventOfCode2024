{
 "cells": [
  {
   "cell_type": "markdown",
   "metadata": {},
   "source": [
    "# Day 2"
   ]
  },
  {
   "cell_type": "code",
   "execution_count": 105,
   "metadata": {},
   "outputs": [],
   "source": [
    "fobj = open('Day_2_input.txt', 'r')\n",
    "linelist = fobj.readlines()"
   ]
  },
  {
   "cell_type": "code",
   "execution_count": 106,
   "metadata": {},
   "outputs": [],
   "source": [
    "myList = [[int(x) for x in y.split()] for y in linelist]\n",
    "# myList[1]"
   ]
  },
  {
   "cell_type": "code",
   "execution_count": 107,
   "metadata": {},
   "outputs": [],
   "source": [
    "def safetyFunc(alist):\n",
    "    order = 1 if alist[0]<alist[1] else -1\n",
    "\n",
    "    for i in range(len(alist)-1):\n",
    "        temp = alist[i+1] - alist[i]\n",
    "        if(abs(temp) > 3 or (order*temp)<=0):\n",
    "            return False\n",
    "    # print(alist, \" is Good\", end=\" | \")\n",
    "    return True"
   ]
  },
  {
   "cell_type": "code",
   "execution_count": 108,
   "metadata": {},
   "outputs": [],
   "source": [
    "def safetyDampener(alist):\n",
    "    if safetyFunc(alist):\n",
    "        return True\n",
    "    for i in range(len(alist)):\n",
    "        if safetyFunc(pop_list(alist, i)):\n",
    "            return True\n",
    "    return False\n",
    "    # return (safetyFunc(alist) or\n",
    "    #         safetyFunc(pop_list(alist, 0)) or \n",
    "    #         safetyFunc(pop_list(alist, 1)) or \n",
    "    #         safetyFunc(pop_list(alist, 2)) or \n",
    "    #         safetyFunc(pop_list(alist, 3)) or \n",
    "    #         safetyFunc(pop_list(alist, 4)) )  DOES NOT HANDLE LONGER PROCESSES\n",
    "\n",
    "def pop_list(original_list, index):\n",
    "    return original_list[:index] + original_list[index+1:]"
   ]
  },
  {
   "cell_type": "code",
   "execution_count": 109,
   "metadata": {},
   "outputs": [
    {
     "name": "stdout",
     "output_type": "stream",
     "text": [
      "236\n"
     ]
    }
   ],
   "source": [
    "numSafe=0\n",
    "for y in myList:\n",
    "    if(safetyFunc(y)):\n",
    "        numSafe += 1\n",
    "\n",
    "print(numSafe)"
   ]
  },
  {
   "cell_type": "code",
   "execution_count": 110,
   "metadata": {},
   "outputs": [
    {
     "name": "stdout",
     "output_type": "stream",
     "text": [
      "308\n"
     ]
    }
   ],
   "source": [
    "numSafeDamped=0\n",
    "for y in myList:\n",
    "    if safetyDampener(y):\n",
    "        numSafeDamped += 1\n",
    "\n",
    "print(numSafeDamped)"
   ]
  }
 ],
 "metadata": {
  "kernelspec": {
   "display_name": "Python 3",
   "language": "python",
   "name": "python3"
  },
  "language_info": {
   "codemirror_mode": {
    "name": "ipython",
    "version": 3
   },
   "file_extension": ".py",
   "mimetype": "text/x-python",
   "name": "python",
   "nbconvert_exporter": "python",
   "pygments_lexer": "ipython3",
   "version": "3.10.11"
  }
 },
 "nbformat": 4,
 "nbformat_minor": 2
}
