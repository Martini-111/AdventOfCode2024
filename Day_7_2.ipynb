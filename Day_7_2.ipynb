{
 "cells": [
  {
   "cell_type": "markdown",
   "metadata": {},
   "source": [
    "## Part 2 of Day 7"
   ]
  },
  {
   "cell_type": "code",
   "execution_count": 6,
   "metadata": {},
   "outputs": [],
   "source": [
    "import re"
   ]
  },
  {
   "cell_type": "code",
   "execution_count": 7,
   "metadata": {},
   "outputs": [],
   "source": [
    "fobj = open(\"Day_7_input.txt\", \"r\")\n",
    "\n",
    "rawLines = fobj.readlines()\n",
    "\n",
    "rawLines = [x.strip() for x in rawLines]\n",
    "\n",
    "RHS_PAT = re.compile(\"(\\s+\\d+)\")\n",
    "LHS_PAT = re.compile(\"(\\d+):\")\n",
    "\n",
    "RHSlist = list()\n",
    "LHSlist = list()\n",
    "for line in rawLines:\n",
    "    RHSlist.append([int(num) for num in RHS_PAT.findall(line)])\n",
    "    LHSlist.append(int(LHS_PAT.findall(line)[0]))"
   ]
  },
  {
   "cell_type": "code",
   "execution_count": 8,
   "metadata": {},
   "outputs": [],
   "source": [
    "calibSum = 0\n",
    "\n",
    "class Node:\n",
    "    def __init__(self, value, cause):\n",
    "        self.value = value\n",
    "        self.cause = cause # The value that led to creation\n",
    "        self.left = None\n",
    "        self.middle = None\n",
    "        self.right = None\n",
    "        self.children = (self.left, self.middle, self.right)\n",
    "\n",
    "    # def "
   ]
  },
  {
   "cell_type": "code",
   "execution_count": 9,
   "metadata": {},
   "outputs": [],
   "source": [
    "def include(node, number):\n",
    "    global wanted\n",
    "    global finalNum\n",
    "    global calibSum\n",
    "\n",
    "    if node.left != None and node.right != None and node.middle!=None:\n",
    "        include(node.right, number)\n",
    "        include(node.middle, number)\n",
    "        include(node.left, number)\n",
    "\n",
    "    else:\n",
    "        leftnum = node.value + number\n",
    "        midnum = int(str(node.value)+str(number))\n",
    "        rightnum = node.value * number\n",
    "    \n",
    "        node.left = Node(leftnum, number)\n",
    "        node.middle = Node(midnum, number)\n",
    "        node.right = Node(rightnum, number)\n",
    "\n",
    "        if finalNum==True and (rightnum==wanted or midnum==wanted or leftnum==wanted):\n",
    "            finalNum = False\n",
    "            calibSum += wanted"
   ]
  },
  {
   "cell_type": "code",
   "execution_count": 10,
   "metadata": {},
   "outputs": [
    {
     "name": "stdout",
     "output_type": "stream",
     "text": [
      "145149066755184\n"
     ]
    }
   ],
   "source": [
    "Forest2 = []\n",
    "\n",
    "for LHSval, rlist in zip(LHSlist, RHSlist):\n",
    "    Forest2.append(Node(rlist[0], rlist[0]))\n",
    "    finalNum = False\n",
    "    wanted = LHSval\n",
    "    for i in range(1, len(rlist)):\n",
    "        if (i==(len(rlist)-1)):\n",
    "            finalNum = True\n",
    "        include(Forest2[-1], rlist[i])\n",
    "\n",
    "        # print(f\"Tried to Add {rlist[i]} to Node rooted at {Forest2[-1].value} checking for {wanted}\")\n",
    "        # if calibrated:\n",
    "        #     break\n",
    "\n",
    "\n",
    "print(calibSum)"
   ]
  }
 ],
 "metadata": {
  "kernelspec": {
   "display_name": "Python 3",
   "language": "python",
   "name": "python3"
  },
  "language_info": {
   "codemirror_mode": {
    "name": "ipython",
    "version": 3
   },
   "file_extension": ".py",
   "mimetype": "text/x-python",
   "name": "python",
   "nbconvert_exporter": "python",
   "pygments_lexer": "ipython3",
   "version": "3.10.11"
  }
 },
 "nbformat": 4,
 "nbformat_minor": 2
}
