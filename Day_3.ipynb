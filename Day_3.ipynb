{
 "cells": [
  {
   "cell_type": "markdown",
   "metadata": {},
   "source": [
    "# Day 3"
   ]
  },
  {
   "cell_type": "code",
   "execution_count": 2,
   "metadata": {},
   "outputs": [],
   "source": [
    "import re"
   ]
  },
  {
   "cell_type": "code",
   "execution_count": 3,
   "metadata": {},
   "outputs": [],
   "source": [
    "fobj = open('Day_3_input.txt', 'r')\n",
    "textblob = fobj.read()"
   ]
  },
  {
   "cell_type": "code",
   "execution_count": 4,
   "metadata": {},
   "outputs": [],
   "source": [
    "# textblob"
   ]
  },
  {
   "cell_type": "code",
   "execution_count": 5,
   "metadata": {},
   "outputs": [],
   "source": [
    "matcher = re.compile(\"mul\\(\\d{1,3},\\d{1,3}\\)\")\n",
    "# myList = matcher.findall(\"how()(mul(786,79),>>)mul(249,770)$&@\")\n",
    "# myList"
   ]
  },
  {
   "cell_type": "code",
   "execution_count": 6,
   "metadata": {},
   "outputs": [],
   "source": [
    "myList = matcher.findall(textblob)\n",
    "num_matcher = re.compile(\"\\d{1,3}\")\n",
    "# x = num_matcher.findall(\"how()(mul(786,79),>>)mul(249,770)$&@\")\n",
    "# print(x)\n",
    "num_list = list()\n",
    "for str in myList:\n",
    "    num_list.extend([int(x) for x in num_matcher.findall(str)])\n"
   ]
  },
  {
   "cell_type": "code",
   "execution_count": 7,
   "metadata": {},
   "outputs": [
    {
     "data": {
      "text/plain": [
       "153469856"
      ]
     },
     "execution_count": 7,
     "metadata": {},
     "output_type": "execute_result"
    }
   ],
   "source": [
    "sum=0\n",
    "for i in range(0, len(num_list)-1, 2):\n",
    "    sum += num_list[i]*num_list[i+1]\n",
    "sum"
   ]
  },
  {
   "cell_type": "code",
   "execution_count": 8,
   "metadata": {},
   "outputs": [
    {
     "name": "stdout",
     "output_type": "stream",
     "text": [
      "original number of matches:  734\n",
      "new number of matches:  331\n"
     ]
    }
   ],
   "source": [
    "newMatcher = re.compile(\"(?:mul\\(\\d{1,3},\\d{1,3}\\))|(?:do\\(\\))|(?:don\\'t\\(\\))\")\n",
    "# test = matcher.findall(\"xmul(2,4)&mul[3,7]!^don't()_mul(5,5)+mul(32,64](mul(11,8)undo()?mul(8,5))\")\n",
    "# test\n",
    "myNewList = newMatcher.findall(textblob)\n",
    "print(\"original number of matches: \", len(myNewList))\n",
    "# print(myNewList)\n",
    "do=True\n",
    "i=0\n",
    "while(True):\n",
    "    if myNewList[i] == \"don\\'t()\":\n",
    "        do=False\n",
    "        myNewList.pop(i)\n",
    "    elif(myNewList[i] == \"do()\"):\n",
    "        do=True\n",
    "        myNewList.pop(i)\n",
    "    elif(not do):\n",
    "        myNewList.pop(i)\n",
    "    else:\n",
    "        i += 1\n",
    "    if i == len(myNewList):\n",
    "        break\n",
    "\n",
    "print(\"new number of matches: \",len(myNewList))\n",
    "# print(myNewList)"
   ]
  },
  {
   "cell_type": "code",
   "execution_count": 9,
   "metadata": {},
   "outputs": [
    {
     "data": {
      "text/plain": [
       "77055967"
      ]
     },
     "execution_count": 9,
     "metadata": {},
     "output_type": "execute_result"
    }
   ],
   "source": [
    "new_num_list = list()\n",
    "for str in myNewList:\n",
    "    new_num_list.extend([int(x) for x in num_matcher.findall(str)])\n",
    "\n",
    "\n",
    "sum=0\n",
    "for i in range(0, len(new_num_list)-1, 2):\n",
    "    sum += new_num_list[i]*new_num_list[i+1]\n",
    "sum"
   ]
  }
 ],
 "metadata": {
  "kernelspec": {
   "display_name": "Python 3",
   "language": "python",
   "name": "python3"
  },
  "language_info": {
   "codemirror_mode": {
    "name": "ipython",
    "version": 3
   },
   "file_extension": ".py",
   "mimetype": "text/x-python",
   "name": "python",
   "nbconvert_exporter": "python",
   "pygments_lexer": "ipython3",
   "version": "3.10.11"
  }
 },
 "nbformat": 4,
 "nbformat_minor": 2
}
